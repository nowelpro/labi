{
  "cells": [
    {
      "cell_type": "markdown",
      "metadata": {
        "id": "l-_tdvdh84fW"
      },
      "source": [
        "## Основы программирования в Python\n",
        "\n",
        "*Алла Тамбовцева, НИУ ВШЭ*\n",
        "\n",
        "## Семинар 4"
      ]
    },
    {
      "cell_type": "markdown",
      "metadata": {
        "id": "I_HboGyT84fa"
      },
      "source": [
        "### Задача 1\n",
        "\n",
        "Напишите программу, которая просит пользователя ввести положительное число, и если пользователь вводит положительное число, выводит на экран сообщение \"Молодец!\", если нет ‒ \"Это не положительное число.\".\n",
        "\n",
        "Считайте, что пользователь в любом случае вводит числа, а не какой-то текст."
      ]
    },
    {
      "cell_type": "code",
      "source": [
        "a = int (input (\"Введите положительное число: \"))\n",
        "if a > 0: \n",
        "  print (\"Молодец!\")\n",
        "else:\n",
        "  print (\"Это не положительное число.\")"
      ],
      "metadata": {
        "colab": {
          "base_uri": "https://localhost:8080/"
        },
        "id": "Pner5rJR8_zL",
        "outputId": "725faa60-b2c3-44e5-9a3a-281e329f5cde"
      },
      "execution_count": null,
      "outputs": [
        {
          "output_type": "stream",
          "name": "stdout",
          "text": [
            "Введите положительное число: 0\n",
            "Это не положительное число.\n"
          ]
        }
      ]
    },
    {
      "cell_type": "markdown",
      "metadata": {
        "id": "gsI-qMgq84fb"
      },
      "source": [
        "### Задача 2\n",
        "\n",
        "Напишите программу, которая принимает на вход список оценок студентов от 1 до 10, выводит на экран оценку, а после нее, с новой строки, комментарий \"Плохо\", \"Удовлетворительно\", \"Хорошо\", \"Отлично\" в зависимости от оценки."
      ]
    },
    {
      "cell_type": "code",
      "source": [
        "a = int (input (\"Введите оценку от 1 до 10: \"))\n",
        "if a <= 10 and a>= 1:\n",
        "  if a <= 3: \n",
        "    print (\"Плохо\")\n",
        "  elif a<6:\n",
        "    print (\"Удовлетворительно\")\n",
        "  elif a < 9:\n",
        "    print (\"Хорошо\")\n",
        "  else:\n",
        "    print (\"Отлично\")\n",
        "else:\n",
        "  print(\"Введена некорректная оценка\")\n",
        "    "
      ],
      "metadata": {
        "colab": {
          "base_uri": "https://localhost:8080/"
        },
        "id": "61Vcnhrx-r99",
        "outputId": "2e286c13-1c11-4901-dfef-e44cae83420c"
      },
      "execution_count": null,
      "outputs": [
        {
          "output_type": "stream",
          "name": "stdout",
          "text": [
            "Введите оценку от 1 до 10: 11\n",
            "Введена некорректная оценка\n"
          ]
        }
      ]
    },
    {
      "cell_type": "markdown",
      "metadata": {
        "id": "_tLUp-E-84fc"
      },
      "source": [
        "### Задача 3\n",
        "\n",
        "Напишите программу, которая запрашивает у пользователя пароль, и далее:\n",
        "\n",
        "- если пароль верный, выводит на экран сообщение \"Login success\".\n",
        "- если пароль неверный, выводит на экран сообщение \"Incorrect password, try again!\" до тех пор, пока пользователь не введет верный пароль."
      ]
    },
    {
      "cell_type": "code",
      "source": [
        "p = \"rrtgdj\"\n",
        "up = str (input(\"Введите пароль: \"))\n",
        "while p != up:\n",
        "  print(\"Incorrect password, try again\")\n",
        "  up = str(input(\"Введите пароль: \"))\n",
        "else:\n",
        "  print(\"Login success\")\n"
      ],
      "metadata": {
        "colab": {
          "base_uri": "https://localhost:8080/"
        },
        "id": "P91ftjSwApwC",
        "outputId": "5b375826-30ea-4d59-b971-5070736171b0"
      },
      "execution_count": null,
      "outputs": [
        {
          "output_type": "stream",
          "name": "stdout",
          "text": [
            "Введите пароль: 123d\n",
            "Incorrect password, try again\n",
            "Введите пароль: 12544\n",
            "Incorrect password, try again\n",
            "Введите пароль: 12356\n",
            "Incorrect password, try again\n",
            "Введите пароль: rrtgdj\n",
            "Login success\n"
          ]
        }
      ]
    },
    {
      "cell_type": "markdown",
      "metadata": {
        "id": "rGIKlDvn84fc"
      },
      "source": [
        "### Задача 4\n",
        "\n",
        "У питона есть набор любимых чисел.\n",
        "\n",
        "    favorites = [3, 7, 11, 23, 18, 48, 81]\n",
        "\n",
        "Напишите программу, которая просит пользователя ввести целое число, и если оно нравится питону, на экран будет выводиться сообщение: \"Мое любимое число!\", если нет ‒ \"Эх, ну почему?\"."
      ]
    },
    {
      "cell_type": "code",
      "source": [
        "f = [3, 7, 11, 23, 18, 48, 81]\n",
        "a = int(input(\"Введите число: \"))\n",
        "if a in f:\n",
        "  print (\"Мое любимое число!\")\n",
        "else:\n",
        "  print(\"Эх, ну почему?\")\n"
      ],
      "metadata": {
        "colab": {
          "base_uri": "https://localhost:8080/"
        },
        "id": "fD2XjLF9HhFU",
        "outputId": "536498e9-d056-4a4f-ce34-73661af7fd0c"
      },
      "execution_count": null,
      "outputs": [
        {
          "output_type": "stream",
          "name": "stdout",
          "text": [
            "Введите число: 15\n",
            "Эх, ну почему?\n"
          ]
        }
      ]
    },
    {
      "cell_type": "markdown",
      "metadata": {
        "id": "otVHTErT84fd"
      },
      "source": [
        "### Задача 5\n",
        "\n",
        "Напишите программу, которая просит пользователя ввести число и, если оно чётное, выводит на экран сообщение: \"Это число чётное\", если нечётное ‒ \"Это число нечётное\"."
      ]
    },
    {
      "cell_type": "code",
      "source": [
        "a = int(input(\"Введите число: \"))\n",
        "if a % 2 == 0:\n",
        "  print (\"Четное число\")\n",
        "else:\n",
        "  print (\"Нечетное число\")"
      ],
      "metadata": {
        "colab": {
          "base_uri": "https://localhost:8080/"
        },
        "id": "2F_R7wkCIaDz",
        "outputId": "acf0100c-ab48-44c6-9ac6-f11d709cc342"
      },
      "execution_count": null,
      "outputs": [
        {
          "output_type": "stream",
          "name": "stdout",
          "text": [
            "Введите число: 0\n",
            "Четное число\n"
          ]
        }
      ]
    },
    {
      "cell_type": "markdown",
      "metadata": {
        "id": "v-KOcsSI84fd"
      },
      "source": [
        "### Задача 6\n",
        "\n",
        "Напишите программу, которая просит пользователя ввести существительное, и если слово введено с большой буквы, то на экран выводится сообщение \"Это имя собственное.\", если с маленькой ‒ сообщение \"Это имя нарицательное\"."
      ]
    },
    {
      "cell_type": "code",
      "source": [
        "n=str(input(\"Введите существительное: \"))\n",
        "if (n==n.lower()) is True:\n",
        "  print(\"Это имя собственное\")\n",
        "else:\n",
        "  print(\"Это имя нарицательное\")"
      ],
      "metadata": {
        "colab": {
          "base_uri": "https://localhost:8080/"
        },
        "id": "88vi2YG4-xzH",
        "outputId": "65764654-fd9e-4052-ced1-83ad48bda778"
      },
      "execution_count": 19,
      "outputs": [
        {
          "output_type": "stream",
          "name": "stdout",
          "text": [
            "Введите существительное: Марина\n",
            "Это имя нарицательное\n"
          ]
        }
      ]
    }
  ],
  "metadata": {
    "kernelspec": {
      "display_name": "Python 3",
      "language": "python",
      "name": "python3"
    },
    "language_info": {
      "codemirror_mode": {
        "name": "ipython",
        "version": 3
      },
      "file_extension": ".py",
      "mimetype": "text/x-python",
      "name": "python",
      "nbconvert_exporter": "python",
      "pygments_lexer": "ipython3",
      "version": "3.6.5"
    },
    "colab": {
      "name": "Копия_блокнота__sem_23_04_ipynb_.ipynb",
      "provenance": []
    }
  },
  "nbformat": 4,
  "nbformat_minor": 0
}