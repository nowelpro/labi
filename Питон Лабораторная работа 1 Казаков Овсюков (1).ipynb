{
  "cells": [
    {
      "cell_type": "markdown",
      "metadata": {
        "id": "UM2GHNbtoFaN"
      },
      "source": [
        "### Задание 0 (вычислительное)\n",
        "\n",
        "Посчитайте:\n",
        "\n",
        "* $log(25)$, $log(exp(3))$, $log_{10}1000$\n",
        "* $\\pi^3$, $123^4$ \n",
        "* $\\sqrt{459}$"
      ]
    },
    {
      "cell_type": "code",
      "source": [
        "import math\n",
        "math.log(25)\n",
        "math.log(math.exp(3))\n",
        "math.log10(1000)\n",
        "\n",
        "math.pi**3\n",
        "123**4\n",
        "\n",
        "math.sqrt(459)"
      ],
      "metadata": {
        "colab": {
          "base_uri": "https://localhost:8080/"
        },
        "id": "AdYNzuBJoHKi",
        "outputId": "d77ae317-bc05-4deb-9a7b-8917231937ab"
      },
      "execution_count": 7,
      "outputs": [
        {
          "output_type": "execute_result",
          "data": {
            "text/plain": [
              "21.42428528562855"
            ]
          },
          "metadata": {},
          "execution_count": 7
        }
      ]
    },
    {
      "cell_type": "markdown",
      "metadata": {
        "id": "DoRQBPiKoFaP"
      },
      "source": [
        "### Задание 1 (стартовое)\n",
        "\n",
        "В переменных `a` и `b` хранятся некоторые числа. Напишите код, который бы менял значения переменных местами. Создавать новые переменные можно. \n",
        "\n",
        "**Пример:**"
      ]
    },
    {
      "cell_type": "code",
      "execution_count": 11,
      "metadata": {
        "id": "73dys46RoFaP"
      },
      "outputs": [],
      "source": [
        "# до\n",
        "a = 2\n",
        "b = 5"
      ]
    },
    {
      "cell_type": "code",
      "execution_count": 12,
      "metadata": {
        "id": "d-0XOPzSoFaQ"
      },
      "outputs": [],
      "source": [
        "c=a\n",
        "a=b\n",
        "b=c"
      ]
    },
    {
      "cell_type": "code",
      "execution_count": 13,
      "metadata": {
        "colab": {
          "base_uri": "https://localhost:8080/"
        },
        "id": "iQAg78txoFaR",
        "outputId": "e63445d2-c746-4d80-cf4c-b7cb7b3d5eef"
      },
      "outputs": [
        {
          "output_type": "stream",
          "name": "stdout",
          "text": [
            "5\n",
            "2\n"
          ]
        }
      ],
      "source": [
        "# после\n",
        "print(a)\n",
        "print(b)"
      ]
    },
    {
      "cell_type": "markdown",
      "metadata": {
        "id": "RkzKl2dpoFaR"
      },
      "source": [
        "### Задание 2 (арифметическое)\n",
        "\n",
        "В переменных `a`, `b`, `c` хранятся какие-то числа. Напишите программу, которая считает их среднее арифметическое."
      ]
    },
    {
      "cell_type": "code",
      "execution_count": 14,
      "metadata": {
        "id": "L3_4dE_VoFaR"
      },
      "outputs": [],
      "source": [
        "a = 1\n",
        "b = 2\n",
        "c = 3"
      ]
    },
    {
      "cell_type": "code",
      "execution_count": 17,
      "metadata": {
        "colab": {
          "base_uri": "https://localhost:8080/"
        },
        "id": "u_TQGClQoFaR",
        "outputId": "d9e1053e-c1fb-4336-c717-e8d1329b63f7"
      },
      "outputs": [
        {
          "output_type": "execute_result",
          "data": {
            "text/plain": [
              "2.0"
            ]
          },
          "metadata": {},
          "execution_count": 17
        }
      ],
      "source": [
        "n=(a+b+c)/3\n",
        "n"
      ]
    },
    {
      "cell_type": "markdown",
      "metadata": {
        "id": "MDcLD9QToFaS"
      },
      "source": [
        "### Задание 3 (экономическое)\n",
        "\n",
        "Напишите программу, которая логарифмирует значение ВВП, которое хранится в переменной `gdp` и округляет результат до второго знака после запятой."
      ]
    },
    {
      "cell_type": "code",
      "source": [
        "gdp=1483000000000\n",
        "import math\n",
        "round(math.log(gdp),2)"
      ],
      "metadata": {
        "colab": {
          "base_uri": "https://localhost:8080/"
        },
        "id": "M8vIhvUtrqJV",
        "outputId": "0686daff-80f1-41bc-82fa-a8aa611736fd"
      },
      "execution_count": 21,
      "outputs": [
        {
          "output_type": "execute_result",
          "data": {
            "text/plain": [
              "28.03"
            ]
          },
          "metadata": {},
          "execution_count": 21
        }
      ]
    },
    {
      "cell_type": "markdown",
      "metadata": {
        "id": "LKhFJmy4oFaS"
      },
      "source": [
        "###  Задание 3 (финансовое)\n",
        "\n",
        "В переменной `salary` хранится значение заработной платы респондента в рублях (можете сами присвоить `salary` какое-нибудь значение).\n",
        "\n",
        "Напишите программу, которая выражает заработную плату респондента в тысячах рублей и\n",
        "\n",
        "a) просто выводит результат перевода в тысячи на экран;\n",
        "\n",
        "б) просто сохраняет результат в переменную `salary_th`;\n",
        "\n",
        "в) сохраняет результат в переменную `salary_th` и выводит результат на экран."
      ]
    },
    {
      "cell_type": "code",
      "source": [
        "salary=1555600\n",
        "salary/1000"
      ],
      "metadata": {
        "colab": {
          "base_uri": "https://localhost:8080/"
        },
        "id": "DYt8quJ2sdJP",
        "outputId": "d44b151d-d56a-46d0-8dd1-4c118861757b"
      },
      "execution_count": 26,
      "outputs": [
        {
          "output_type": "execute_result",
          "data": {
            "text/plain": [
              "1555.6"
            ]
          },
          "metadata": {},
          "execution_count": 26
        }
      ]
    },
    {
      "cell_type": "code",
      "source": [
        "salary=1555600\n",
        "salary=salary/1000\n",
        "salary_th=salary"
      ],
      "metadata": {
        "id": "uP6Ru5qusyLW"
      },
      "execution_count": 29,
      "outputs": []
    },
    {
      "cell_type": "code",
      "source": [
        "salary=1555600\n",
        "salary=salary/1000\n",
        "salary_th=salary\n",
        "salary_th"
      ],
      "metadata": {
        "colab": {
          "base_uri": "https://localhost:8080/"
        },
        "id": "EN8IE0vEs7Dt",
        "outputId": "516c2ec3-6e5d-47af-9dd8-a422398b90b0"
      },
      "execution_count": 30,
      "outputs": [
        {
          "output_type": "execute_result",
          "data": {
            "text/plain": [
              "1555.6"
            ]
          },
          "metadata": {},
          "execution_count": 30
        }
      ]
    },
    {
      "cell_type": "markdown",
      "metadata": {
        "id": "Fp_hqgbYoFaS"
      },
      "source": [
        "### Задание 4 (политологическое)\n",
        "\n",
        "В переменной `fh` хранится значение индекса политической свободы Freedom House, а в переменной `p`\n",
        "значение индекса Polity IV. Напишите программу, которая будет считать индекс Freedom:\n",
        "\n",
        "$Freedom = 0.4 \\cdot Freedom House + 0.6 \\cdot Polity IV$."
      ]
    },
    {
      "cell_type": "code",
      "source": [
        "fh=8.9\n",
        "p=1.7\n",
        "fr=(0.4*fh+0.6*p)\n",
        "fr"
      ],
      "metadata": {
        "colab": {
          "base_uri": "https://localhost:8080/"
        },
        "id": "ylJY2mywtK3p",
        "outputId": "515306fb-a55b-4984-cbcc-dc08bfd4abb3"
      },
      "execution_count": 36,
      "outputs": [
        {
          "output_type": "execute_result",
          "data": {
            "text/plain": [
              "4.58"
            ]
          },
          "metadata": {},
          "execution_count": 36
        }
      ]
    },
    {
      "cell_type": "markdown",
      "metadata": {
        "id": "1IcW9ynuoFaT"
      },
      "source": [
        "### Задание 5 (налоговое)\n",
        "\n",
        "Напишите программу, которая запрашивает у пользователя с клавиатуры\n",
        "изначальное значение заработной платы в рублях и выводит на экран сообщение: \n",
        "\n",
        "    Ваша заработная плата с учетом подоходного налога: n рублей.\n",
        "\n",
        "где `n` ‒ значение заработной платы с учетом подоходного налога (налоговая ставка 13%).\n",
        "\n",
        "Подсказка: для ввода информации с клавиатуры используйте функцию `input()`. Не забудьте учесть, что результат, который вводится через `input()` является строкой, а не числом. Примеры использования `input()` и более подробное знакомство с вводом-выводом в Python – см. [здесь](https://nbviewer.jupyter.org/github/allatambov/Py-programming-3/blob/master/06-04/lecture-input-output.ipynb)."
      ]
    },
    {
      "cell_type": "code",
      "source": [
        "zp=float(input(\"Введите значение вашей ЗП: \"))\n",
        "n=round((zp-zp*0.13),2)\n",
        "print(\"Ваша заработная плата с учетом подоходного налога:\", n, \"рублей\")"
      ],
      "metadata": {
        "colab": {
          "base_uri": "https://localhost:8080/"
        },
        "id": "49R4mIAJuWQs",
        "outputId": "13c38046-fc2d-4f01-ce47-b5fa1d8a7225"
      },
      "execution_count": 46,
      "outputs": [
        {
          "output_type": "stream",
          "name": "stdout",
          "text": [
            "Введите значение вашей ЗП: 15200.63\n",
            "Ваша заработная плата с учетом подоходного налога: 13224.55 рублей\n"
          ]
        }
      ]
    },
    {
      "cell_type": "markdown",
      "metadata": {
        "id": "VN_WEPtloFaT"
      },
      "source": [
        "### Задание 6 (весеннее)\n",
        "\n",
        "С приходом весны питон решил каждый день выползать погреться на солнышко. Однако он знал, что солнце весной довольно активное, и поэтому разработал такую схему: в первый день он греется одну минуту, а в каждый последующий день увеличивает время пребывания на солнце на 3 минуты. Напишите код, который позволит вычислять, сколько минут питон будет тратить на солнечные ванны в некоторый выбранный день.\n",
        "\n",
        "*Внимание:* ваш код должен выводить номер дня и число минут. Использовать циклы нельзя, в задании предполагается многократный запуск ячеек с кодом."
      ]
    },
    {
      "cell_type": "code",
      "source": [
        "m=1\n",
        "d=1\n",
        "mnext=3\n",
        "d=d+1\n",
        "res = m+mnext\n",
        "d=d+1\n",
        "m= res+mnext\n",
        "print(\"На\", d,\"день питон потратит на солнечные ванны\", m, \"минут\")"
      ],
      "metadata": {
        "colab": {
          "base_uri": "https://localhost:8080/"
        },
        "id": "K640WDQCwcKv",
        "outputId": "e6b5e44d-3477-4aaa-8db8-0c29b311fea6"
      },
      "execution_count": 49,
      "outputs": [
        {
          "output_type": "stream",
          "name": "stdout",
          "text": [
            "На 3 день питон потратит на солнечные ванны 7 минут\n"
          ]
        }
      ]
    },
    {
      "cell_type": "markdown",
      "metadata": {
        "id": "BUylF9iqoFaU"
      },
      "source": [
        "### Задание 7 (цифровое)\n",
        "\n",
        "Питон выполз на улицу погулять и решил поиграть: просил прохожих назвать какую-нибудь цифру (т.е. ввести ее с клавиатуры) и приписывал эту цифру к цифре, которую назвал предыдущий прохожий. Напишите код, который позволит определить, какое число получится после опроса 4 прохожих, если известно, что первый прохожий назвал цифру 5. \n",
        "Задача не подразумевает использование циклов; запускать код несколько раз / копировать ячейки можно.\n",
        "\n",
        "*Пример-пояснение:* первый назвал цифру 5, второй ‒ цифру 6, третий ‒ 3. Получили число 563.\n",
        "\n",
        "*Подсказка:* для склеивания строк (такая операция называется конкатенацией) в Python используется `+`:"
      ]
    },
    {
      "cell_type": "code",
      "execution_count": 50,
      "metadata": {
        "colab": {
          "base_uri": "https://localhost:8080/"
        },
        "id": "_5sDiVTioFaU",
        "outputId": "3d9c4c36-8922-450a-cdd9-a6d08955b573"
      },
      "outputs": [
        {
          "output_type": "stream",
          "name": "stdout",
          "text": [
            "password\n"
          ]
        }
      ],
      "source": [
        "a = \"pass\"\n",
        "b = \"word\"\n",
        "\n",
        "print(a + b)"
      ]
    },
    {
      "cell_type": "code",
      "source": [
        "a=(input(\"Введите цифру для питона: \"))\n",
        "i=a\n",
        "a=i+(input(\"Цифра: \"))\n",
        "i=a\n",
        "a=i+(input(\"Цифра: \"))\n",
        "i=int(a)\n",
        "i"
      ],
      "metadata": {
        "colab": {
          "base_uri": "https://localhost:8080/"
        },
        "id": "rQfJnReSyhx7",
        "outputId": "135f1e88-7533-4753-9f19-24df649c5708"
      },
      "execution_count": 52,
      "outputs": [
        {
          "name": "stdout",
          "output_type": "stream",
          "text": [
            "Введите цифру для питона: 5\n",
            "Цифра: 6\n",
            "Цифра: 3\n"
          ]
        },
        {
          "output_type": "execute_result",
          "data": {
            "text/plain": [
              "563"
            ]
          },
          "metadata": {},
          "execution_count": 52
        }
      ]
    }
  ],
  "metadata": {
    "kernelspec": {
      "display_name": "Python 3",
      "language": "python",
      "name": "python3"
    },
    "language_info": {
      "codemirror_mode": {
        "name": "ipython",
        "version": 3
      },
      "file_extension": ".py",
      "mimetype": "text/x-python",
      "name": "python",
      "nbconvert_exporter": "python",
      "pygments_lexer": "ipython3",
      "version": "3.6.5"
    },
    "colab": {
      "name": "1 - seminar1 gecnjq.ipynb",
      "provenance": []
    }
  },
  "nbformat": 4,
  "nbformat_minor": 0
}