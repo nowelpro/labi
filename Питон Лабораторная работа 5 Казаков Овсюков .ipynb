{
  "nbformat": 4,
  "nbformat_minor": 0,
  "metadata": {
    "colab": {
      "name": "Untitled0.ipynb",
      "provenance": [],
      "collapsed_sections": []
    },
    "kernelspec": {
      "name": "python3",
      "display_name": "Python 3"
    },
    "language_info": {
      "name": "python"
    }
  },
  "cells": [
    {
      "cell_type": "markdown",
      "source": [
        "Задача 1"
      ],
      "metadata": {
        "id": "FV3CsXPehFsv"
      }
    },
    {
      "cell_type": "code",
      "source": [
        "def square():\n",
        "  a = int(input())\n",
        "  b = a ** 2\n",
        "  print( 'Квадрат числа равен: ', b)\n",
        "s = square()\n",
        "s\n"
      ],
      "metadata": {
        "colab": {
          "base_uri": "https://localhost:8080/"
        },
        "id": "0PHoVUkLhOsq",
        "outputId": "fbed6b70-2e7d-4280-caba-854b47d59cdc"
      },
      "execution_count": 2,
      "outputs": [
        {
          "output_type": "stream",
          "name": "stdout",
          "text": [
            "3\n",
            "Квадрат числа равен:  9\n"
          ]
        }
      ]
    },
    {
      "cell_type": "markdown",
      "source": [
        "Задача 2"
      ],
      "metadata": {
        "id": "RDI2hYogiTaz"
      }
    },
    {
      "cell_type": "code",
      "source": [
        "def nums():\n",
        "  a=int(input())\n",
        "  b=a-1\n",
        "  c=a+1\n",
        "  return b,c\n",
        "n= nums()\n",
        "n"
      ],
      "metadata": {
        "colab": {
          "base_uri": "https://localhost:8080/"
        },
        "id": "7n_oagOpiWfb",
        "outputId": "2fa9070f-840a-46b6-ef68-bbfde1d7ff67"
      },
      "execution_count": 4,
      "outputs": [
        {
          "name": "stdout",
          "output_type": "stream",
          "text": [
            "4\n"
          ]
        },
        {
          "output_type": "execute_result",
          "data": {
            "text/plain": [
              "(3, 5)"
            ]
          },
          "metadata": {},
          "execution_count": 4
        }
      ]
    },
    {
      "cell_type": "markdown",
      "source": [
        "Задача 3"
      ],
      "metadata": {
        "id": "Orx5QuQQi-wN"
      }
    },
    {
      "cell_type": "code",
      "source": [
        "def str_lower():\n",
        "  words=input()\n",
        "  a=words.split()\n",
        "  b=[a[i].strip() for i in range(len(a))]\n",
        "  c=[b[i].lower() for i in range(len(b))]\n",
        "  print(c)\n",
        "d=str_lower()\n",
        "d"
      ],
      "metadata": {
        "colab": {
          "base_uri": "https://localhost:8080/"
        },
        "id": "-PxUAUHOjAvj",
        "outputId": "e9ffe743-a9bd-4085-ae74-ad09e593d444"
      },
      "execution_count": 14,
      "outputs": [
        {
          "output_type": "stream",
          "name": "stdout",
          "text": [
            "Слишком часто беда стучится в двери, но не трудно в спасателей поверить...\n",
            "['слишком', 'часто', 'беда', 'стучится', 'в', 'двери,', 'но', 'не', 'трудно', 'в', 'спасателей', 'поверить...']\n"
          ]
        }
      ]
    },
    {
      "cell_type": "markdown",
      "source": [
        "Задача 4"
      ],
      "metadata": {
        "id": "kuzWvkUIkLCz"
      }
    },
    {
      "cell_type": "code",
      "source": [
        "a=input('Введите числа через пробел:')\n",
        "b=a.split()\n",
        "import math\n",
        "c=[int(b[i]) for i in range(len(b))]\n",
        "for i in c:\n",
        "  if i>0:\n",
        "    i=math.log(i, 10)\n",
        "    print(i)\n",
        "  else: print('None')"
      ],
      "metadata": {
        "colab": {
          "base_uri": "https://localhost:8080/"
        },
        "id": "T3gL4zxZkM5F",
        "outputId": "4fe56b7a-353b-43ec-b96f-7962634af73d"
      },
      "execution_count": 12,
      "outputs": [
        {
          "output_type": "stream",
          "name": "stdout",
          "text": [
            "Введите числа через пробел:1 -5 -7 9\n",
            "0.0\n",
            "None\n",
            "None\n",
            "0.9542425094393249\n"
          ]
        }
      ]
    },
    {
      "cell_type": "markdown",
      "source": [
        "Задача 5"
      ],
      "metadata": {
        "id": "OAuWMEeSmGWb"
      }
    },
    {
      "cell_type": "code",
      "source": [
        "a=input('Введите имена:')\n",
        "b=input('Введите возраст:')\n",
        "c=a.split()\n",
        "d=b.split()\n",
        "if len(c)==len(d):\n",
        "  for i in range(len(c)):\n",
        "    print(c[i], d[i])\n",
        "else: print('Списки имеют разную длину')"
      ],
      "metadata": {
        "colab": {
          "base_uri": "https://localhost:8080/"
        },
        "id": "P-NfYIlHmI7j",
        "outputId": "6a344ddb-840b-400d-ff1f-65c114cbd2f7"
      },
      "execution_count": 17,
      "outputs": [
        {
          "output_type": "stream",
          "name": "stdout",
          "text": [
            "Введите имена:Ann Tim Sam\n",
            "Введите возраст:12 33 41\n",
            "Ann 12\n",
            "Tim 33\n",
            "Sam 41\n"
          ]
        }
      ]
    },
    {
      "cell_type": "markdown",
      "source": [
        "Задача 6"
      ],
      "metadata": {
        "id": "btr1VVMfoasx"
      }
    },
    {
      "cell_type": "code",
      "source": [
        "def all_sort():\n",
        "  k=input()\n",
        "  l=k.split(',')\n",
        "  m=sorted(l)\n",
        "  print(m)\n",
        "u=all_sort()\n",
        "u"
      ],
      "metadata": {
        "colab": {
          "base_uri": "https://localhost:8080/"
        },
        "id": "Et7sSOD0oc1q",
        "outputId": "79fadcd3-7513-499c-f62d-73d75574d13e"
      },
      "execution_count": 18,
      "outputs": [
        {
          "output_type": "stream",
          "name": "stdout",
          "text": [
            "7, 6, 1, 3, 8, 0, -2\n",
            "[' -2', ' 0', ' 1', ' 3', ' 6', ' 8', '7']\n"
          ]
        }
      ]
    }
  ]
}