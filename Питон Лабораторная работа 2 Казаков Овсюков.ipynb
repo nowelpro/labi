{
  "cells": [
    {
      "cell_type": "markdown",
      "metadata": {
        "id": "ateUXUXlY9BE"
      },
      "source": [
        "### Задание 0 (разминка)\n",
        "\n",
        "Даны два списка `a` и `b` (см. ниже).\n",
        "    \n",
        "1. Выведите на экран первый элемент списка `a`, третий элемент списка `a`, последний элемент списка `a`.\n",
        "2. Добавьте в список `b` элемент 7 (просто допишите в конец).\n",
        "3. Замените пятый элемент списка `a` на число 8.\n",
        "4. Создайте список `merged`, который включает в себя все элементы списка `a` и списка `b`.\n",
        "5. Создайте новый список `с`, который получается заменой последнего элемента списка `a` на число 100. Сам список `a` измениться не должен!"
      ]
    },
    {
      "cell_type": "code",
      "execution_count": 1,
      "metadata": {
        "id": "Mev5ntgtY9BH"
      },
      "outputs": [],
      "source": [
        "a = [1, 0, 9, 12, 18, 34, 89, 91, 33, 127]\n",
        "b = [2, 8, 9, 11, 76, 25, 44, 35]"
      ]
    },
    {
      "cell_type": "code",
      "execution_count": 5,
      "metadata": {
        "colab": {
          "base_uri": "https://localhost:8080/"
        },
        "id": "NKDWAf7CY9BI",
        "outputId": "01997b58-182b-410a-811a-7b1020ddd10a"
      },
      "outputs": [
        {
          "output_type": "stream",
          "name": "stdout",
          "text": [
            "1\n",
            "0\n",
            "127\n"
          ]
        }
      ],
      "source": [
        "print(a[0])\n",
        "print(a[1])\n",
        "print(a[9])"
      ]
    },
    {
      "cell_type": "code",
      "source": [
        "merged = a,b # сохранили список a,b в megred\n",
        "print (megred)"
      ],
      "metadata": {
        "colab": {
          "base_uri": "https://localhost:8080/",
          "height": 184
        },
        "id": "Bgz3ol3paQ-n",
        "outputId": "8acc9812-1f37-4763-fc22-b408a645d23e"
      },
      "execution_count": 10,
      "outputs": [
        {
          "output_type": "error",
          "ename": "NameError",
          "evalue": "ignored",
          "traceback": [
            "\u001b[0;31m---------------------------------------------------------------------------\u001b[0m",
            "\u001b[0;31mNameError\u001b[0m                                 Traceback (most recent call last)",
            "\u001b[0;32m<ipython-input-10-b868590f3602>\u001b[0m in \u001b[0;36m<module>\u001b[0;34m()\u001b[0m\n\u001b[1;32m      1\u001b[0m \u001b[0mmerged\u001b[0m \u001b[0;34m=\u001b[0m \u001b[0ma\u001b[0m\u001b[0;34m,\u001b[0m\u001b[0mb\u001b[0m \u001b[0;31m# сохранили список a,b в megred\u001b[0m\u001b[0;34m\u001b[0m\u001b[0;34m\u001b[0m\u001b[0m\n\u001b[0;32m----> 2\u001b[0;31m \u001b[0mprint\u001b[0m \u001b[0;34m(\u001b[0m\u001b[0mmegred\u001b[0m\u001b[0;34m)\u001b[0m\u001b[0;34m\u001b[0m\u001b[0;34m\u001b[0m\u001b[0m\n\u001b[0m",
            "\u001b[0;31mNameError\u001b[0m: name 'megred' is not defined"
          ]
        }
      ]
    },
    {
      "cell_type": "markdown",
      "metadata": {
        "id": "YcT2DUUwY9BJ"
      },
      "source": [
        "### Задание 1 (девочковое)\n",
        "\n",
        "Есть список имен:"
      ]
    },
    {
      "cell_type": "code",
      "execution_count": 12,
      "metadata": {
        "id": "w1LQD2tqY9BJ"
      },
      "outputs": [],
      "source": [
        "girls = [\"Иветта\", \"Виолетта\", \"Кассандра\", \"Вирджиния\", \n",
        "         \"Амелия\", \"Розамунда\", \"Янина\", \"Беатриса\"]"
      ]
    },
    {
      "cell_type": "markdown",
      "metadata": {
        "id": "ibwI5kPwY9BJ"
      },
      "source": [
        "Используя список `girls`, выведите на экран следующие списки:\n",
        "\n",
        "    [\"Виолетта\", \"Кассандра\", \"Вирджиния\", \"Амелия\"]\n",
        "    [\"Вирджиния\", \"Амелия\", \"Розамунда\", \"Янина\", \"Беатриса\"]\n",
        "    [\"Иветта\", \"Виолетта\", \"Вирджиния\", \"Амелия\"]\n",
        "    [\"Кассандра\", \"Амелия\", \"Розамунда\"]"
      ]
    },
    {
      "cell_type": "code",
      "source": [
        "print (girls[1:5])\n",
        "print (girls[3:])\n",
        "print (girls[0:2], girls[3:5])\n",
        "print (girls[2:3], girls[4:6])"
      ],
      "metadata": {
        "colab": {
          "base_uri": "https://localhost:8080/"
        },
        "id": "KOOGqSTcbcFf",
        "outputId": "b1040f8d-96e8-40fa-bd17-51f7c1da4436"
      },
      "execution_count": 19,
      "outputs": [
        {
          "output_type": "stream",
          "name": "stdout",
          "text": [
            "['Виолетта', 'Кассандра', 'Вирджиния', 'Амелия']\n",
            "['Вирджиния', 'Амелия', 'Розамунда', 'Янина', 'Беатриса']\n",
            "['Иветта', 'Виолетта'] ['Вирджиния', 'Амелия']\n",
            "['Кассандра'] ['Амелия', 'Розамунда']\n"
          ]
        }
      ]
    },
    {
      "cell_type": "code",
      "execution_count": 13,
      "metadata": {
        "colab": {
          "base_uri": "https://localhost:8080/"
        },
        "id": "oBDiwn6wY9BK",
        "outputId": "c51be17e-1f3f-4c25-ef5b-8720d090a3ce"
      },
      "outputs": [
        {
          "output_type": "stream",
          "name": "stdout",
          "text": [
            "['Вирджиния', 'Амелия', 'Розамунда', 'Янина', 'Беатриса']\n"
          ]
        }
      ],
      "source": [
        "print(girls[3:])"
      ]
    },
    {
      "cell_type": "markdown",
      "metadata": {
        "id": "cqB8RGqjY9BL"
      },
      "source": [
        "### Задание 2 (поэлементное) \n",
        "\n",
        "Дан список `L`. Выведите на экран (последовательно, с новой строчки): \n",
        "\n",
        "* все элементы списка `L`\n",
        "* логарифмированные значения элементов списка `L`"
      ]
    },
    {
      "cell_type": "code",
      "execution_count": 20,
      "metadata": {
        "id": "bnR_OwFsY9BL"
      },
      "outputs": [],
      "source": [
        "L = [12, 3, 8, 125, 10, 98, 54, 199]"
      ]
    },
    {
      "cell_type": "code",
      "execution_count": 21,
      "metadata": {
        "colab": {
          "base_uri": "https://localhost:8080/"
        },
        "id": "7TtWnsTuY9BL",
        "outputId": "475252b4-5e62-4aaa-aff6-4c1200df0cc7"
      },
      "outputs": [
        {
          "output_type": "stream",
          "name": "stdout",
          "text": [
            "12\n",
            "3\n",
            "8\n",
            "125\n",
            "10\n",
            "98\n",
            "54\n",
            "199\n"
          ]
        }
      ],
      "source": [
        "for i in L:\n",
        "    print(i)"
      ]
    },
    {
      "cell_type": "code",
      "source": [
        "L2 = []\n",
        "import math\n",
        "for i in L:\n",
        "     L2.append(math.log(i,10))\n",
        "print (L2)"
      ],
      "metadata": {
        "colab": {
          "base_uri": "https://localhost:8080/"
        },
        "id": "E_lttJKhclcw",
        "outputId": "3f2b0db1-5ec8-446e-f9fc-e66f8da2a0c3"
      },
      "execution_count": 24,
      "outputs": [
        {
          "output_type": "stream",
          "name": "stdout",
          "text": [
            "[1.0791812460476247, 0.47712125471966244, 0.9030899869919434, 2.0969100130080562, 1.0, 1.9912260756924949, 1.7323937598229684, 2.2988530764097064]\n"
          ]
        }
      ]
    },
    {
      "cell_type": "markdown",
      "metadata": {
        "id": "ISLw02LgY9BM"
      },
      "source": [
        "Замените пятый элемент списка `L` на 0. Проделайте те же операции, что и раньше. Объясните, почему получаются такие результаты."
      ]
    },
    {
      "cell_type": "markdown",
      "metadata": {
        "id": "nOkUZIC6Y9BM"
      },
      "source": [
        "### Задание 3 (демографическое)\n",
        "\n",
        "В списке `age` сохранены значения возраста респондентов: \n",
        "\n",
        "    age = [24, 35, 42, 27, 45, 48, 33]\n",
        "    \n",
        "Создайте список `age2`, в котором будут храниться значения возраста, возведенные в квадрат.\n",
        "\n",
        "**Подсказка:** используйте цикл *for*."
      ]
    },
    {
      "cell_type": "code",
      "execution_count": 26,
      "metadata": {
        "id": "DmjPWDrpY9BM"
      },
      "outputs": [],
      "source": [
        "age = [24, 35, 42, 27, 45, 48, 33]\n",
        "age1 = []"
      ]
    },
    {
      "cell_type": "code",
      "execution_count": 27,
      "metadata": {
        "colab": {
          "base_uri": "https://localhost:8080/"
        },
        "id": "Oe750pJaY9BN",
        "outputId": "98d89b05-53e3-4fd9-d0bc-730297d16c61"
      },
      "outputs": [
        {
          "output_type": "stream",
          "name": "stdout",
          "text": [
            "24\n",
            "35\n",
            "42\n",
            "27\n",
            "45\n",
            "48\n",
            "33\n"
          ]
        }
      ],
      "source": [
        "for i in age:\n",
        "    age1.append(i*i)\n",
        "    print(i)"
      ]
    },
    {
      "cell_type": "markdown",
      "metadata": {
        "id": "rmw2SdVJY9BN"
      },
      "source": [
        "### Задание 4 (игровое)\n",
        "\n",
        "Питон просит пользователя загадать (ввести с клавиатуры) целое число $k$ от 1 до 10. Питон берет это число $k$ и выводит на экран $k$-тый элемент списка `numbers`, причем $k$-ый элемент в привычном понимании, в нумерации, которая начинается с единицы.  \n",
        "\n",
        "Список `numbers`:"
      ]
    },
    {
      "cell_type": "code",
      "execution_count": 28,
      "metadata": {
        "id": "Kad0tJHVY9BN"
      },
      "outputs": [],
      "source": [
        "numbers = [1, 5, 6, 8, 10, 21, 25, 1, 0, -9, 9]"
      ]
    },
    {
      "cell_type": "markdown",
      "metadata": {
        "id": "Wn2axuYjY9BO"
      },
      "source": [
        "**Пояснение:**\n",
        "    \n",
        "*Входные данные:*\n",
        "\n",
        "    Введите целое число от 1 до 10: 3\n",
        "    \n",
        "*Выходные данные:*\n",
        "\n",
        "    6"
      ]
    },
    {
      "cell_type": "code",
      "source": [
        "a= int(input (\"Введите целое число от 1 до 10: \"))\n",
        "print (numbers[a])"
      ],
      "metadata": {
        "colab": {
          "base_uri": "https://localhost:8080/"
        },
        "id": "0f9xGmjPdwrM",
        "outputId": "0a8033be-f2bf-45c0-acb8-75bff0d6f82a"
      },
      "execution_count": 30,
      "outputs": [
        {
          "output_type": "stream",
          "name": "stdout",
          "text": [
            "Введите целое число от 1 до 10: 2\n",
            "6\n"
          ]
        }
      ]
    },
    {
      "cell_type": "markdown",
      "metadata": {
        "id": "0j4fq6c4Y9BO"
      },
      "source": [
        "### Задание 5 (числовое)\n",
        "\n",
        "У питона есть набор любимых чисел.\n",
        "\n",
        "    favorites = [3, 7, 11, 23, 18, 48, 81]\n",
        "\n",
        "Напишите программу, которая просит пользователя ввести целое число, и если оно нравится питону, на экран будет выводиться сообщение: \"Мое любимое число!\", если нет ‒ \"Эх, ну почему?\".\n",
        "\n",
        "*Подсказка:* чтобы проверить, принадлежит ли некоторый объект элементам списка, можно воспользоваться оператором *in*."
      ]
    },
    {
      "cell_type": "code",
      "source": [
        "favorites = [3, 7, 11, 23, 18, 48, 81]"
      ],
      "metadata": {
        "id": "f58U8a0OeUae"
      },
      "execution_count": 31,
      "outputs": []
    },
    {
      "cell_type": "code",
      "source": [
        "a= int(input())\n",
        "if a in favorites:\n",
        "    print(\"Мое любимое число\")\n",
        "else:\n",
        "   print(\"Эх, ну почему?\")"
      ],
      "metadata": {
        "colab": {
          "base_uri": "https://localhost:8080/"
        },
        "id": "PFTeWE9heaNP",
        "outputId": "e41899c5-4059-47ec-9977-e4288f6c10ee"
      },
      "execution_count": 42,
      "outputs": [
        {
          "output_type": "stream",
          "name": "stdout",
          "text": [
            "3\n",
            "Мое любимое число\n"
          ]
        }
      ]
    },
    {
      "cell_type": "markdown",
      "metadata": {
        "id": "LIQKY6A_Y9BO"
      },
      "source": [
        "### Задание 6 (четное)\n",
        "\n",
        "Напишите программу, которая просит пользователя ввести число и, если оно чётное, выводит на экран сообщение: \"Это число чётное\", если нечётное ‒ \"Это число нечётное\".\n",
        "\n",
        "*Подсказка:* используйте оператор `%` для определения остатка от деления."
      ]
    },
    {
      "cell_type": "code",
      "source": [
        "a = int(input())\n",
        "if a % 2 == 0:\n",
        "  print (\"Четное число\")\n",
        "else:\n",
        "  print('Нечентное число') \n",
        " "
      ],
      "metadata": {
        "colab": {
          "base_uri": "https://localhost:8080/"
        },
        "id": "oupnXvCKhbW_",
        "outputId": "e376ab9a-9bb6-4efc-da95-a678bc072a66"
      },
      "execution_count": 46,
      "outputs": [
        {
          "output_type": "stream",
          "name": "stdout",
          "text": [
            "5\n",
            "Нечентное число\n"
          ]
        }
      ]
    },
    {
      "cell_type": "markdown",
      "metadata": {
        "id": "nbJhcy87Y9BP"
      },
      "source": [
        "### Задание 7 (музыкальное)\n",
        "\n",
        "Напишите программу, которая принимает на вход список слов такого вида:\n",
        "\n",
        "    words = [\"Speak \",\"to\", \"me \", \"of\", \"Florence\" ,\"And \", \"of\", \"the\", \"Renaissance\"]\n",
        "\n",
        "а возвращает список\n",
        "\n",
        "    words_clean = [\"speak\", \"to\", \"me\", \"of\", \"florence\", \"and\", \"of\", \"the\", \"renaissance\"]\n",
        "\n",
        "Другими словами, программа убирает пробелы в словах и приводит все слова к нижнему регистру. Эту задачу можно решить через циклы, но в Python есть такая полезная вещь как списковые включения. Они работают быстрее, чем циклы, и создавать новые списки на основе старых очень удобно. Прочитать про них можно [здесь](http://pythontutor.ru/lessons/lists/#section_3) и [здесь](https://nbviewer.jupyter.org/github/allatambov/Py-programming-3/blob/master/20-04/lecture-lists-contd.ipynb).\n",
        "\n",
        "**Подсказка:** запросите `help()`  по  методам `.strip()` и `.lower()`."
      ]
    },
    {
      "cell_type": "code",
      "source": [
        "words = [\"Speak \",\"to\", \"me \", \"of\", \"Florence\" ,\"And \", \"of\", \"the\", \"Renaissance\"]"
      ],
      "metadata": {
        "id": "JEb3-mR2iMOQ"
      },
      "execution_count": 54,
      "outputs": []
    },
    {
      "cell_type": "code",
      "source": [
        "\n",
        "a = [words[i].strip() for i in range(len(words))]\n",
        "a = [a[i].lower() for i in range(len(a))]\n",
        "a"
      ],
      "metadata": {
        "colab": {
          "base_uri": "https://localhost:8080/"
        },
        "id": "dQpasu3siZvQ",
        "outputId": "f4134a7b-ef02-4ff4-cf32-760024a58fe3"
      },
      "execution_count": 58,
      "outputs": [
        {
          "output_type": "execute_result",
          "data": {
            "text/plain": [
              "['speak', 'to', 'me', 'of', 'florence', 'and', 'of', 'the', 'renaissance']"
            ]
          },
          "metadata": {},
          "execution_count": 58
        }
      ]
    },
    {
      "cell_type": "markdown",
      "metadata": {
        "id": "fgyE7cM0Y9BQ"
      },
      "source": [
        "### Задание 8 (секретное)\n",
        "\n",
        "Напишите программу, которая запрашивает у пользователя пароль, и далее:\n",
        "\n",
        "- если пароль верный, выводит на экран сообщение \"Login success\".\n",
        "- если пароль неверный, выводит на экран сообщение \"Incorrect password, try again!\" до тех пор, пока пользователь не введет верный пароль.\n",
        "\n",
        "Считайте, что верный пароль программе известен, то есть уже сохранен в некоторой переменной. "
      ]
    },
    {
      "cell_type": "code",
      "source": [
        "password = \"hsepassword\"\n",
        "attempt = input(\"Enter you password: \")\n",
        "\n",
        "while attempt != password:\n",
        "    print(\"Incorrect password. Try again!\")\n",
        "    attempt = input(\"Enter you password: \")\n",
        "print(\"Login success\")\n"
      ],
      "metadata": {
        "colab": {
          "base_uri": "https://localhost:8080/"
        },
        "id": "rvxYBf6Tj7H7",
        "outputId": "82597078-5418-4b0e-c7f7-ec06b6cd9acb"
      },
      "execution_count": 57,
      "outputs": [
        {
          "output_type": "stream",
          "name": "stdout",
          "text": [
            "Enter you password: 123\n",
            "Incorrect password. Try again!\n",
            "Enter you password: 5645\n",
            "Incorrect password. Try again!\n",
            "Enter you password: 1222\n",
            "Incorrect password. Try again!\n",
            "Enter you password: 0000\n",
            "Incorrect password. Try again!\n",
            "Enter you password: hsepassword\n",
            "Login success\n"
          ]
        }
      ]
    },
    {
      "cell_type": "markdown",
      "metadata": {
        "id": "4YmUezVoY9BQ"
      },
      "source": [
        "### Задание 9 (функциональное)\n",
        "\n",
        "Напишите функцию `nums()`, которая принимает на вход целое число, а возвращает список из двух элементов: целое число, предшествующее принятому на вход, и число, следующее за ним.\n",
        "\n",
        "**Пример:**\n",
        "\n",
        "*Входные данные:*\n",
        "\n",
        "    7\n",
        "\n",
        "*Выходные данные:*\n",
        "\n",
        "    [6, 8]"
      ]
    },
    {
      "cell_type": "code",
      "source": [
        "def nums():\n",
        "    a = int(input())\n",
        "    b = a -1\n",
        "    c = a+1\n",
        "    return b,c \n",
        "n = nums()\n",
        "n"
      ],
      "metadata": {
        "colab": {
          "base_uri": "https://localhost:8080/"
        },
        "id": "LdsbsoY3nlla",
        "outputId": "af727ae0-9aba-4d58-a37c-d2f616c39914"
      },
      "execution_count": 60,
      "outputs": [
        {
          "name": "stdout",
          "output_type": "stream",
          "text": [
            "2\n"
          ]
        },
        {
          "output_type": "execute_result",
          "data": {
            "text/plain": [
              "(1, 3)"
            ]
          },
          "metadata": {},
          "execution_count": 60
        }
      ]
    },
    {
      "cell_type": "markdown",
      "metadata": {
        "id": "UPaJd_zoY9BR"
      },
      "source": [
        "### Задание 10 (счетное)\n",
        "\n",
        "Напишите функцию `my_log()`, которая принимает на вход список чисел, и возвращает список их натуральных логарифмов. Если число меньше или равно 0, на его месте в возвращаемом списке должно быть None.\n",
        "\n",
        "**Пример:**\n",
        "\n",
        "*Входные данные:*\n",
        "\n",
        "    [1, 3, 2.5, -1, 9, 0, 2.71]\n",
        "\n",
        "*Выходные данные:*\n",
        "\n",
        "    [0.0,\n",
        "     1.0986122886681098,\n",
        "     0.9162907318741551,\n",
        "     None,\n",
        "     2.1972245773362196,\n",
        "     None,\n",
        "     0.9969486348916096]"
      ]
    },
    {
      "cell_type": "code",
      "source": [
        ""
      ],
      "metadata": {
        "id": "0Y-vIEPtomT0"
      },
      "execution_count": null,
      "outputs": []
    },
    {
      "cell_type": "markdown",
      "metadata": {
        "id": "dUW1Wp4aY9BR"
      },
      "source": [
        "### Задание 11 (зимнее)\n",
        "\n",
        "Напишите функцию `str_lower()`, которая принимает на вход строку (набор слов через пробел), а возвращает список ее элементов в нижнем регистре. \n",
        "\n",
        "**Пример:**\n",
        "\n",
        "*Входные данные:*\n",
        "\n",
        "    \"В лесу родилась ёлочка В лесу она росла\"\n",
        "\n",
        "*Выходные данные:*\n",
        "\n",
        "    ['в', 'лесу', 'родилась', 'ёлочка', 'в', 'лесу', 'она', 'росла']\n",
        "    \n",
        "*Подсказка:* для разбиение строки на части, познакомьтесь с методом `.split()` – запросите по нему `help()`."
      ]
    }
  ],
  "metadata": {
    "kernelspec": {
      "display_name": "Python 3",
      "language": "python",
      "name": "python3"
    },
    "language_info": {
      "codemirror_mode": {
        "name": "ipython",
        "version": 3
      },
      "file_extension": ".py",
      "mimetype": "text/x-python",
      "name": "python",
      "nbconvert_exporter": "python",
      "pygments_lexer": "ipython3",
      "version": "3.6.5"
    },
    "colab": {
      "name": "2 - seminar2.ipynb",
      "provenance": [],
      "collapsed_sections": [
        "ateUXUXlY9BE",
        "YcT2DUUwY9BJ",
        "cqB8RGqjY9BL",
        "nOkUZIC6Y9BM",
        "rmw2SdVJY9BN",
        "0j4fq6c4Y9BO",
        "LIQKY6A_Y9BO",
        "nbJhcy87Y9BP",
        "fgyE7cM0Y9BQ",
        "4YmUezVoY9BQ",
        "UPaJd_zoY9BR"
      ]
    }
  },
  "nbformat": 4,
  "nbformat_minor": 0
}