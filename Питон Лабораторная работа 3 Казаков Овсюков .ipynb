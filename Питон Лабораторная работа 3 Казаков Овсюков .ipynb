{
  "cells": [
    {
      "cell_type": "markdown",
      "metadata": {
        "id": "IarnWeLYQJZV"
      },
      "source": [
        "## Основы программирования в Python\n",
        "\n",
        "*Алла Тамбовцева, НИУ ВШЭ*\n",
        "\n",
        "## Семинар 3"
      ]
    },
    {
      "cell_type": "markdown",
      "metadata": {
        "id": "JK6iJ_x1QJZi"
      },
      "source": [
        "### Задача 1\n",
        "\n",
        "Напишите программу, которая запрашивает у пользователя его фамилию, имя, отчество, введенные в одну строчку через пробел, и выводит на экран сообщения:\n",
        "\n",
        "    Ваша фамилия: фамилия\n",
        "    Ваше имя: имя\n",
        "    Ваше отчество: отчество\n",
        "\n",
        "**Пример:**\n",
        "\n",
        "*Входные данные:*\n",
        "\n",
        "    Введите Ваши ФИО: Тамбовцева Алла Андреевна\n",
        "\n",
        "*Выходные данные:*\n",
        "\n",
        "    Ваша фамилия: Тамбовцева\n",
        "    Ваше имя: Алла\n",
        "    Ваше отчество: Андреевна"
      ]
    },
    {
      "cell_type": "code",
      "source": [
        "a = input (\"Введите Ваши ФИО:\")\n",
        "a1 = a.split ()\n",
        "a1\n",
        "print ('Ваша фамилия:', a1[0])\n",
        "print ('Ваше имя:', a1[1])\n",
        "print ('Ваше отчество:', a1[-1])"
      ],
      "metadata": {
        "colab": {
          "base_uri": "https://localhost:8080/"
        },
        "id": "KtR_ERjmQSoV",
        "outputId": "2aa943e8-612a-4fe3-a8ba-181561aa2eb4"
      },
      "execution_count": null,
      "outputs": [
        {
          "output_type": "stream",
          "name": "stdout",
          "text": [
            "Введите Ваши ФИО:евсеева ната пал\n",
            "Ваша фамилия: евсеева\n",
            "Ваше имя: ната\n",
            "Ваше отчество: пал\n"
          ]
        }
      ]
    },
    {
      "cell_type": "markdown",
      "metadata": {
        "id": "q_T3dNJnQJZk"
      },
      "source": [
        "### Задача 2\n",
        "\n",
        "Напишите программу, которая берет строку \"1; 2; 3; 100\" и возвращает:\n",
        "\n",
        "* список из целых чисел\n",
        "* список из чисел с плавающей точкой"
      ]
    },
    {
      "cell_type": "code",
      "source": [
        "a1= []\n",
        "a2= []\n",
        "a =(1, 2, 3, 100)\n",
        "for n in a:\n",
        "    a1.append(int(n))\n",
        "\n",
        "for n in a:\n",
        "    a2.append(float(n))\n",
        "print(a1)\n",
        "print(a2)\n",
        "\n",
        "\n"
      ],
      "metadata": {
        "colab": {
          "base_uri": "https://localhost:8080/"
        },
        "id": "Rvlk6n7lTXkw",
        "outputId": "b3fcae95-7455-4b66-b6d7-fbc2632709c6"
      },
      "execution_count": null,
      "outputs": [
        {
          "output_type": "stream",
          "name": "stdout",
          "text": [
            "[1, 2, 3, 100]\n",
            "[1.0, 2.0, 3.0, 100.0]\n"
          ]
        }
      ]
    },
    {
      "cell_type": "markdown",
      "metadata": {
        "id": "CRiwbsnWQJZl"
      },
      "source": [
        "### Задача 3\n",
        "\n",
        "Напишите программу, которая запрашивает у пользователя номер мобильного телефона, введенный через дефис, а возвращает номер, записанный без дефисов и пробелов.\n",
        "\n",
        "*Входные данные:*\n",
        "\n",
        "    8-900-123-45-67\n",
        "\n",
        "*Выходные данные:*\n",
        "\n",
        "    89001234567"
      ]
    },
    {
      "cell_type": "code",
      "source": [
        "b = \"\"\n",
        "a = input (\"Введите Ваш номер моб. телефона через дефис:\")\n",
        "a1 = a.split (\"-\")\n",
        "for n in a1:\n",
        "   b=b+str(n) \n",
        "print (b)\n"
      ],
      "metadata": {
        "colab": {
          "base_uri": "https://localhost:8080/"
        },
        "id": "ifuXhuNhWKqw",
        "outputId": "ba51211f-b368-40c4-e656-de23ec6b0220"
      },
      "execution_count": null,
      "outputs": [
        {
          "output_type": "stream",
          "name": "stdout",
          "text": [
            "Введите Ваш номер моб. телефона через дефис:8-963-5412\n",
            "89635412\n"
          ]
        }
      ]
    },
    {
      "cell_type": "markdown",
      "metadata": {
        "id": "NEHIZI9nQJZm"
      },
      "source": [
        "### Задача 4\n",
        "\n",
        "Напишите программу, которая принимает на вход список L, в котором хранятся значения доходов домохозяйств за месяц, а возвращает новый список L2 ‒ список логарифмированных значений доходов."
      ]
    },
    {
      "cell_type": "code",
      "source": [
        "import math\n",
        "L2= []\n",
        "L = [10, 560, 3, 5]\n",
        "L2 = [math.log(i) for i in L]\n",
        "L2"
      ],
      "metadata": {
        "colab": {
          "base_uri": "https://localhost:8080/"
        },
        "id": "uyZcsEvhbd1v",
        "outputId": "67f6c588-120c-4099-8e9e-9badf8ca5e80"
      },
      "execution_count": null,
      "outputs": [
        {
          "output_type": "execute_result",
          "data": {
            "text/plain": [
              "[2.302585092994046, 6.327936783729195, 1.0986122886681098, 1.6094379124341003]"
            ]
          },
          "metadata": {},
          "execution_count": 84
        }
      ]
    },
    {
      "cell_type": "markdown",
      "metadata": {
        "id": "JaEQrFjzQJZn"
      },
      "source": [
        "### Задача 5\n",
        "\n",
        "Напишите программу, которая принимает на вход список слов такого вида:\n",
        "\n",
        "    words = [\"Speak \",\"to\", \"me \", \"of\", \"Florence\" ,\"And \", \"of\", \"the\", \"Renaissance\"]\n",
        "\n",
        "а возвращает список\n",
        "\n",
        "    words_clean = [\"speak\", \"to\", \"me\", \"of\", \"florence\", \"and\", \"of\", \"the\", \"renaissance\"]\n",
        "\n",
        "Другими словами, программа убирает пробелы в словах и приводит все слова к нижнему регистру.\n",
        "\n",
        "**Подсказка:** запросите `help()`  по  методам `strip()` и `lower()`."
      ]
    },
    {
      "cell_type": "code",
      "source": [
        "words = ['Speak ','to', 'me ', 'of', 'Florence' ,'And ', 'of', 'the', 'Renaissance']\n",
        "words1 = []\n",
        "words_clean = []\n",
        "for i in words:\n",
        "  words1.append(i.lower())\n",
        "for i in words1:\n",
        "  str(i).replace(' ','')\n",
        "  words_clean.append(i)\n",
        "print(words_clean)\n"
      ],
      "metadata": {
        "colab": {
          "base_uri": "https://localhost:8080/"
        },
        "id": "iWCD-iyRgYZg",
        "outputId": "abc9b88e-bc75-420f-947a-7f7f65668f47"
      },
      "execution_count": 10,
      "outputs": [
        {
          "output_type": "stream",
          "name": "stdout",
          "text": [
            "['speak ', 'to', 'me ', 'of', 'florence', 'and ', 'of', 'the', 'renaissance']\n"
          ]
        }
      ]
    },
    {
      "cell_type": "markdown",
      "source": [
        ""
      ],
      "metadata": {
        "id": "JVpgTTc2gUp6"
      }
    }
  ],
  "metadata": {
    "kernelspec": {
      "display_name": "Python 3",
      "language": "python",
      "name": "python3"
    },
    "language_info": {
      "codemirror_mode": {
        "name": "ipython",
        "version": 3
      },
      "file_extension": ".py",
      "mimetype": "text/x-python",
      "name": "python",
      "nbconvert_exporter": "python",
      "pygments_lexer": "ipython3",
      "version": "3.6.5"
    },
    "colab": {
      "name": "sem_20_04.ipynb",
      "provenance": [],
      "collapsed_sections": []
    }
  },
  "nbformat": 4,
  "nbformat_minor": 0
}